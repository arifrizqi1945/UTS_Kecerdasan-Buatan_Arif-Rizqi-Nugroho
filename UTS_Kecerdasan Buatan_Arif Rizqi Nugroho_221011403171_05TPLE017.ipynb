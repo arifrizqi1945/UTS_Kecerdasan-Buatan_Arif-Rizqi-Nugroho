{
 "cells": [
  {
   "cell_type": "code",
   "execution_count": 29,
   "id": "45bfaf60-c3b3-4707-a46f-95dc3ca3bc8c",
   "metadata": {},
   "outputs": [],
   "source": [
    "# Data\n",
    "\n",
    "company_detail_list = [\n",
    "      {\n",
    "          'name': 'Company 1',\n",
    "          'domain': 'Retail',\n",
    "          'country': 'United States'\n",
    "      },\n",
    "      {\n",
    "          'name': 'Company 2',\n",
    "          'domain': 'Technology',\n",
    "          'country': 'United Kingdom'\n",
    "      },\n",
    "      {\n",
    "          'name': 'Company 3',\n",
    "          'domain': 'Healthcare',\n",
    "          'country': 'United States'\n",
    "      }\n",
    "  ]\n",
    "\n",
    "employee_detail_list = [\n",
    "     {\n",
    "          'name': 'EMP-0001',\n",
    "          'first_name': 'John',\n",
    "          'last_name': 'Doe',\n",
    "          'full_name': 'John Doe',\n",
    "          'company': 'Company 1',\n",
    "          'nationality': 'Australia'\n",
    "      },\n",
    "      {\n",
    "          'name': 'EMP-0002',\n",
    "          'first_name': 'Tom',\n",
    "          'last_name': 'Smith',\n",
    "          'full_name': 'Tom Smith',\n",
    "          'company': 'Company 2',\n",
    "          'nationality': 'United States'\n",
    "      },\n",
    "      {\n",
    "          'name': 'EMP-0003',\n",
    "          'first_name': 'Andrew',\n",
    "          'last_name': 'Sebastian',\n",
    "          'full_name': 'Andrew Sebastian',\n",
    "          'company': 'Company 3',\n",
    "          'nationality': 'United States'\n",
    "      },\n",
    "      {\n",
    "          'name': 'EMP-0005',\n",
    "          'first_name': 'Ying Han',\n",
    "          'last_name': 'Tan',\n",
    "          'full_name': 'Ying Han Tan',\n",
    "          'company': 'Company 1',\n",
    "          'nationality': 'Australia'\n",
    "      },\n",
    "      {\n",
    "          'name': 'EMP-0015',\n",
    "          'first_name': 'Kenneth',\n",
    "          'last_name': 'Ng',\n",
    "          'full_name': 'Kenneth Ng',\n",
    "          'company': 'Company 3',\n",
    "          'nationality': 'United States'\n",
    "      },\n",
    "      {\n",
    "          'name': 'EMP-0018',\n",
    "          'first_name': 'Rubby',\n",
    "          'last_name': 'Lee',\n",
    "          'full_name': 'Rubby Lee',\n",
    "          'company': 'Company 2',\n",
    "          'nationality': 'Hong Kong'\n",
    "      },\n",
    "     {\n",
    "          'name': 'EMP-0017',\n",
    "          'first_name': 'Robert',\n",
    "          'last_name': 'White',\n",
    "          'full_name': 'Robert White',\n",
    "          'company': 'Company 1',\n",
    "          'nationality': 'United Kingdom'\n",
    "      }\n",
    "  ]"
   ]
  },
  {
   "cell_type": "code",
   "execution_count": 78,
   "id": "74992f75-5f74-4168-8fdd-a5b1e4fdd094",
   "metadata": {},
   "outputs": [
    {
     "ename": "NameError",
     "evalue": "name 'sorted_companies' is not defined",
     "output_type": "error",
     "traceback": [
      "\u001b[1;31m---------------------------------------------------------------------------\u001b[0m",
      "\u001b[1;31mNameError\u001b[0m                                 Traceback (most recent call last)",
      "Cell \u001b[1;32mIn[78], line 2\u001b[0m\n\u001b[0;32m      1\u001b[0m \u001b[38;5;66;03m# nomor 1\u001b[39;00m\n\u001b[1;32m----> 2\u001b[0m \u001b[38;5;28mprint\u001b[39m(sorted_companies)\n",
      "\u001b[1;31mNameError\u001b[0m: name 'sorted_companies' is not defined"
     ]
    }
   ],
   "source": [
    "# nomor 1\n",
    "print(sorted_companies)"
   ]
  },
  {
   "cell_type": "code",
   "execution_count": 80,
   "id": "461c2c71-e1ae-4f0b-86db-f571848ffa96",
   "metadata": {},
   "outputs": [
    {
     "name": "stdout",
     "output_type": "stream",
     "text": [
      "Company 1: Retail (United States)\n",
      "Company 2: Technology (United Kingdom)\n",
      "Company 3: Healthcare (United States)\n"
     ]
    }
   ],
   "source": [
    "#nomor 2\n",
    "for company in company_detail_list:\n",
    "    print(f\"{company['name']}: {company['domain']} ({company['country']})\")"
   ]
  },
  {
   "cell_type": "code",
   "execution_count": 82,
   "id": "c566a71f-9005-47ca-a8cd-7977ed191ff3",
   "metadata": {},
   "outputs": [
    {
     "name": "stdout",
     "output_type": "stream",
     "text": [
      "{'Retail': ['John Doe', 'Ying Han Tan', 'Robert White'], 'Technology': ['Tom Smith', 'Rubby Lee'], 'Healthcare': ['Andrew Sebastian', 'Kenneth Ng']}\n"
     ]
    }
   ],
   "source": [
    "# nomor 3\n",
    "employees_by_domain = {}\n",
    "for company in company_detail_list:\n",
    "    domain = company['domain']\n",
    "    employees_by_domain.setdefault(domain, []).extend(\n",
    "        employee['full_name'] for employee in employee_detail_list if employee['company'] == company['name']\n",
    "    )\n",
    "\n",
    "print(employees_by_domain)"
   ]
  },
  {
   "cell_type": "code",
   "execution_count": 52,
   "id": "63aa530d-5525-4fde-8529-1a14df76eb84",
   "metadata": {},
   "outputs": [
    {
     "name": "stdout",
     "output_type": "stream",
     "text": [
      "{'Company 1': [('John Doe', 'United States'), ('Ying Han Tan', 'United States'), ('Robert White', 'United States')], 'Company 2': [('Tom Smith', 'United Kingdom'), ('Rubby Lee', 'United Kingdom')], 'Company 3': [('Andrew Sebastian', 'United States'), ('Kenneth Ng', 'United States')]}\n"
     ]
    }
   ],
   "source": [
    "#nomor 4\n",
    "def employees_by_company_country(company_details, employee_details):\n",
    "   \n",
    "    company_employees = {}\n",
    "    for company in company_details:\n",
    "        company_name = company['name']\n",
    "        company_country = company['country']\n",
    "        company_employees[company_name] = []\n",
    "        for employee in employee_details:\n",
    "            if employee['company'] == company_name:\n",
    "                company_employees[company_name].append((employee['full_name'], company_country))\n",
    "    return company_employees\n",
    "\n",
    "result = employees_by_company_country(company_detail_list, employee_detail_list)\n",
    "print(result)"
   ]
  },
  {
   "cell_type": "code",
   "execution_count": 55,
   "id": "9f17a912-bd85-4990-b07c-f0a621f9a231",
   "metadata": {},
   "outputs": [
    {
     "name": "stdout",
     "output_type": "stream",
     "text": [
      "{'Company 1': {'Australia': 2, 'United Kingdom': 1}, 'Company 2': {'United States': 1, 'Hong Kong': 1}, 'Company 3': {'United States': 2}}\n"
     ]
    }
   ],
   "source": [
    "#nomor 5\n",
    "def companies_with_employee_nationalities(company_details, employee_details):\n",
    "  \n",
    "    company_nationalities = {}\n",
    "    for company in company_details:\n",
    "        company_name = company['name']\n",
    "        company_nationalities[company_name] = {}\n",
    "        for employee in employee_details:\n",
    "            if employee['company'] == company_name:\n",
    "                nationality = employee['nationality']\n",
    "                company_nationalities[company_name][nationality] = company_nationalities[company_name].get(nationality, 0) + 1\n",
    "    return company_nationalities\n",
    "\n",
    "result = companies_with_employee_nationalities(company_detail_list, employee_detail_list)\n",
    "print(result)"
   ]
  }
 ],
 "metadata": {
  "kernelspec": {
   "display_name": "Python 3 (ipykernel)",
   "language": "python",
   "name": "python3"
  },
  "language_info": {
   "codemirror_mode": {
    "name": "ipython",
    "version": 3
   },
   "file_extension": ".py",
   "mimetype": "text/x-python",
   "name": "python",
   "nbconvert_exporter": "python",
   "pygments_lexer": "ipython3",
   "version": "3.12.4"
  }
 },
 "nbformat": 4,
 "nbformat_minor": 5
}
